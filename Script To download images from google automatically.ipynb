{
 "cells": [
  {
   "cell_type": "code",
   "execution_count": 2,
   "metadata": {},
   "outputs": [
    {
     "name": "stdout",
     "output_type": "stream",
     "text": [
      "Collecting BeautifulSoup4Note: you may need to restart the kernel to use updated packages.\n",
      "  Downloading beautifulsoup4-4.9.1-py3-none-any.whl (115 kB)\n",
      "Collecting soupsieve>1.2\n",
      "  Downloading soupsieve-2.0.1-py3-none-any.whl (32 kB)\n",
      "Installing collected packages: soupsieve, BeautifulSoup4\n",
      "Successfully installed BeautifulSoup4-4.9.1 soupsieve-2.0.1\n",
      "\n"
     ]
    }
   ],
   "source": [
    "pip install BeautifulSoup4"
   ]
  },
  {
   "cell_type": "markdown",
   "metadata": {},
   "source": [
    "# Code to search for image on google and download them"
   ]
  },
  {
   "cell_type": "code",
   "execution_count": null,
   "metadata": {},
   "outputs": [],
   "source": [
    "import os\n",
    "import json \n",
    "import requests \n",
    "from bs4 import BeautifulSoup \n",
    "\n",
    "GOOGLE_IMAGE = \\\n",
    "    'https://www.google.com/search?site=&tbm=isch&source=hp&biw=1873&bih=990&'\n",
    "\n",
    "# The User-Agent request header contains a characteristic string \n",
    "# that allows the network protocol peers to identify the application type, \n",
    "# operating system, and software version of the requesting software user agent.\n",
    "# needed for google search\n",
    "usr_agent = {\n",
    "    'User-Agent': 'Mozilla/5.0 (X11; Linux x86_64) AppleWebKit/537.11 (KHTML, like Gecko) Chrome/23.0.1271.64 Safari/537.11',\n",
    "    'Accept': 'text/html,application/xhtml+xml,application/xml;q=0.9,*/*;q=0.8',\n",
    "    'Accept-Charset': 'ISO-8859-1,utf-8;q=0.7,*;q=0.3',\n",
    "    'Accept-Encoding': 'none',\n",
    "    'Accept-Language': 'en-US,en;q=0.8',\n",
    "    'Connection': 'keep-alive',\n",
    "}\n",
    "\n",
    "i=0\n",
    "SAVE_FOLDER = 'OtherImages'\n",
    "filename_tosave = \"box\"\n",
    "dir = \"C:/Users/Yogesh/CupDetector/\"+SAVE_FOLDER+'/'\n",
    "\n",
    "\n",
    "def main():\n",
    "    if not os.path.exists(SAVE_FOLDER):\n",
    "        print(\"Making Directory\")\n",
    "        os.mkdir(SAVE_FOLDER)\n",
    "    print(\"Directory exists\")\n",
    "    download_images()\n",
    "    \n",
    "def download_images():\n",
    "    data = input('What are you looking for? ')\n",
    "\n",
    "    print('Start searching...')\n",
    "    \n",
    "    searchurl = GOOGLE_IMAGE + 'q=' + data\n",
    "    print(searchurl)\n",
    "\n",
    "    # request url, without usr_agent the permission gets denied\n",
    "    response = requests.get(searchurl, headers=usr_agent)\n",
    "    html = response.text\n",
    "    \n",
    "    #Parsing HTML\n",
    "    soup = BeautifulSoup(html, 'html.parser')\n",
    "    \n",
    "    #Retrieveing number of files present in the folder\n",
    "    global i\n",
    "    imagelinks= []\n",
    "    list = os.listdir(dir) # dir is your directory path\n",
    "    i = len(list)\n",
    "    print(i)\n",
    "    \n",
    "    #Search for Class \"img\" and eventually obtain links in \"data-src\" \n",
    "    for link in soup.findAll('img'):\n",
    "        op = link.get('data-src')\n",
    "        if not op:\n",
    "            continue\n",
    "        else:\n",
    "            response = requests.get(op)\n",
    "            imagename = SAVE_FOLDER + '/' + filename_tosave + str(i+1) + '.jpg'\n",
    "            with open(imagename, 'wb') as file:\n",
    "                file.write(response.content)\n",
    "            i = i +1\n",
    "            print(\"IMAGE LINKS:\", link.get('data-src'))\n",
    "\n",
    "    print('Done Downloading')\n",
    "\n",
    "if __name__ == '__main__':\n",
    "    main()"
   ]
  },
  {
   "cell_type": "code",
   "execution_count": 5,
   "metadata": {},
   "outputs": [
    {
     "name": "stdout",
     "output_type": "stream",
     "text": [
      "132\n"
     ]
    }
   ],
   "source": [
    "import os\n",
    "dir = \"C:/Users/Yogesh/CupDetector/images/\"\n",
    "list = os.listdir(dir) # dir is your directory path\n",
    "number_files = len(list)\n",
    "print(number_files)"
   ]
  },
  {
   "cell_type": "code",
   "execution_count": null,
   "metadata": {},
   "outputs": [],
   "source": []
  },
  {
   "cell_type": "code",
   "execution_count": null,
   "metadata": {},
   "outputs": [],
   "source": []
  }
 ],
 "metadata": {
  "kernelspec": {
   "display_name": "Python 3",
   "language": "python",
   "name": "python3"
  },
  "language_info": {
   "codemirror_mode": {
    "name": "ipython",
    "version": 3
   },
   "file_extension": ".py",
   "mimetype": "text/x-python",
   "name": "python",
   "nbconvert_exporter": "python",
   "pygments_lexer": "ipython3",
   "version": "3.7.7"
  }
 },
 "nbformat": 4,
 "nbformat_minor": 4
}
